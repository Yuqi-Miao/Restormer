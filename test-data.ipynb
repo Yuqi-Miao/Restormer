{
 "cells": [
  {
   "cell_type": "code",
   "execution_count": null,
   "metadata": {},
   "outputs": [],
   "source": [
    "import torch\n",
    "from torchvision import transforms\n",
    "from torch.utils.data import Dataset\n",
    "import glob\n",
    "import os\n",
    "from PIL import Image\n",
    "import matplotlib.pyplot as plt\n",
    "from dataset import PairImagesDataset\n",
    "\n",
    "# 创建数据集实例\n",
    "dataset = PairImagesDataset(datasource='/data/sr/sr/2023_NightFlareRemoval/data'+'/train', crop=128)\n",
    "\n",
    "# 获取第一组图像\n",
    "gt_img, flare_img = dataset[0]\n",
    "\n",
    "# 将Tensor转换为可视化图像\n",
    "def tensor_to_image(tensor):\n",
    "    return tensor.permute(1, 2, 0).numpy()\n",
    "\n",
    "# 显示图像\n",
    "plt.figure(figsize=(12, 6))\n",
    "plt.subplot(1, 2, 1)\n",
    "plt.imshow(tensor_to_image(gt_img))\n",
    "plt.title('GT Image')\n",
    "plt.axis('off')\n",
    "\n",
    "plt.subplot(1, 2, 2)\n",
    "plt.imshow(tensor_to_image(flare_img))\n",
    "plt.title('Flare Image')\n",
    "plt.axis('off')\n",
    "\n",
    "plt.show()\n"
   ]
  }
 ],
 "metadata": {
  "kernelspec": {
   "display_name": "sr",
   "language": "python",
   "name": "python3"
  },
  "language_info": {
   "codemirror_mode": {
    "name": "ipython",
    "version": 3
   },
   "file_extension": ".py",
   "mimetype": "text/x-python",
   "name": "python",
   "nbconvert_exporter": "python",
   "pygments_lexer": "ipython3",
   "version": "3.8.18"
  }
 },
 "nbformat": 4,
 "nbformat_minor": 2
}
